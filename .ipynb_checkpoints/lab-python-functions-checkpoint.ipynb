{
 "cells": [
  {
   "cell_type": "markdown",
   "id": "25d7736c-ba17-4aff-b6bb-66eba20fbf4e",
   "metadata": {},
   "source": [
    "# Lab | Functions"
   ]
  },
  {
   "cell_type": "markdown",
   "id": "05fd9004-28f6-471c-9586-7c57a8a976a0",
   "metadata": {
    "tags": []
   },
   "source": [
    "## Exercise: Managing Customer Orders with Functions\n",
    "\n",
    "In the previous exercise, you improved the code for managing customer orders by using loops and flow control. Now, let's take it a step further and refactor the code by introducing functions.\n",
    "\n",
    "Follow the steps below to complete the exercise:\n",
    "\n",
    "1. Define a function named `initialize_inventory` that takes `products` as a parameter. Inside the function, implement the code for initializing the inventory dictionary using a loop and user input.\n",
    "\n",
    "2. Define a function named `get_customer_orders` that takes no parameters. Inside the function, implement the code for prompting the user to enter the product names using a loop. The function should return the `customer_orders` set.\n",
    "\n",
    "3. Define a function named `update_inventory` that takes `customer_orders` and `inventory` as parameters. Inside the function, implement the code for updating the inventory dictionary based on the customer orders.\n",
    "\n",
    "4. Define a function named `calculate_order_statistics` that takes `customer_orders` and `products` as parameters. Inside the function, implement the code for calculating the order statistics (total products ordered, and percentage of unique products ordered). The function should return these values.\n",
    "\n",
    "5. Define a function named `print_order_statistics` that takes `order_statistics` as a parameter. Inside the function, implement the code for printing the order statistics.\n",
    "\n",
    "6. Define a function named `print_updated_inventory` that takes `inventory` as a parameter. Inside the function, implement the code for printing the updated inventory.\n",
    "\n",
    "7. Call the functions in the appropriate sequence to execute the program and manage customer orders.\n",
    "\n",
    "Hints for functions:\n",
    "\n",
    "- Consider the input parameters required for each function and their return values.\n",
    "- Utilize function parameters and return values to transfer data between functions.\n",
    "- Test your functions individually to ensure they work correctly.\n",
    "\n",
    "\n"
   ]
  },
  {
   "cell_type": "code",
   "execution_count": 25,
   "id": "8e52de8a-a755-4452-84a7-e3a22a127efe",
   "metadata": {},
   "outputs": [],
   "source": [
    "def initialize_inventory(products):\n",
    "    inventory = {}\n",
    "    for product in products:\n",
    "        quantity = int(input(f'Quantity of {product}: '))\n",
    "        inventory[product] = quantity\n",
    "    return inventory"
   ]
  },
  {
   "cell_type": "code",
   "execution_count": 27,
   "id": "ef1c5b03-b28d-417e-b136-17ece608df0f",
   "metadata": {},
   "outputs": [],
   "source": [
    "def get_customer_orders():\n",
    "    customer_orders = []\n",
    "    while input('Do you want to add a product? (yes/no): ').strip().lower() == 'yes':\n",
    "        order = input('Enter the name of a product to order: ').strip().lower()\n",
    "        if order in products:\n",
    "            customer_orders.append(order)\n",
    "        else:\n",
    "            print(f'{order} is not available in the products list.')\n",
    "    return customer_orders"
   ]
  },
  {
   "cell_type": "code",
   "execution_count": 29,
   "id": "1ab231b6-60d1-4cd9-830f-2779383030d0",
   "metadata": {},
   "outputs": [],
   "source": [
    "def update_inventory(customer_orders, inventory):\n",
    "    for product in customer_orders:\n",
    "        if inventory[product] > 0:\n",
    "            inventory[product] -= 1\n",
    "    return inventory"
   ]
  },
  {
   "cell_type": "code",
   "execution_count": 31,
   "id": "17cc9269-4683-44f3-a4c2-49fc9a77b22b",
   "metadata": {},
   "outputs": [],
   "source": [
    "def calculate_order_statistics(customer_orders, products):\n",
    "    total_products_ordered = len(customer_orders)\n",
    "    percentage_ordered = (total_products_ordered / len(products)) * 100\n",
    "    return total_products_ordered, percentage_ordered"
   ]
  },
  {
   "cell_type": "code",
   "execution_count": 33,
   "id": "779788bf-18d1-4fdd-9b34-9b113d02c55a",
   "metadata": {},
   "outputs": [],
   "source": [
    "def print_order_statistics(order_statistics):\n",
    "    total_products_ordered, percentage_ordered = order_statistics\n",
    "    print('Order Statistics:')\n",
    "    print(f'Total Products Ordered: {total_products_ordered}')\n",
    "    print(f'Percentage of Unique Products Ordered: {percentage_ordered:.2f}%')"
   ]
  },
  {
   "cell_type": "code",
   "execution_count": 35,
   "id": "46e68736-8271-4462-a4ae-f3e0b22bead0",
   "metadata": {},
   "outputs": [],
   "source": [
    "def print_updated_inventory(inventory):\n",
    "    print('Updated Inventory:')\n",
    "    for product, quantity in inventory.items():\n",
    "        print(f'{product}: {quantity}')"
   ]
  },
  {
   "cell_type": "code",
   "execution_count": 37,
   "id": "375b3cdd-4e81-4f7f-9c0f-1c303bf5e1a5",
   "metadata": {},
   "outputs": [
    {
     "name": "stdin",
     "output_type": "stream",
     "text": [
      "Quantity of t-shirt:  10\n",
      "Quantity of mug:  15\n",
      "Quantity of hat:  6\n",
      "Quantity of book:  20\n",
      "Quantity of keychain:  14\n"
     ]
    },
    {
     "name": "stdout",
     "output_type": "stream",
     "text": [
      "Update: {'t-shirt': 10, 'mug': 15, 'hat': 6, 'book': 20, 'keychain': 14}\n"
     ]
    },
    {
     "name": "stdin",
     "output_type": "stream",
     "text": [
      "Do you want to add a product? (yes/no):  yes\n",
      "Enter the name of a product to order:  mug\n",
      "Do you want to add a product? (yes/no):  yes\n",
      "Enter the name of a product to order:  t-shirt\n",
      "Do you want to add a product? (yes/no):  yes\n",
      "Enter the name of a product to order:  keychain\n",
      "Do you want to add a product? (yes/no):  yes\n",
      "Enter the name of a product to order:  book\n",
      "Do you want to add a product? (yes/no):  no\n"
     ]
    },
    {
     "name": "stdout",
     "output_type": "stream",
     "text": [
      "Customer orders: ['mug', 't-shirt', 'keychain', 'book']\n",
      "Order Statistics:\n",
      "Total Products Ordered: 4\n",
      "Percentage of Unique Products Ordered: 80.00%\n",
      "Updated Inventory:\n",
      "t-shirt: 9\n",
      "mug: 14\n",
      "hat: 6\n",
      "book: 19\n",
      "keychain: 13\n"
     ]
    }
   ],
   "source": [
    "products = ['t-shirt', 'mug', 'hat', 'book', 'keychain']\n",
    "\n",
    "inventory = initialize_inventory(products)\n",
    "print('Update:', inventory)\n",
    "\n",
    "customer_orders = get_customer_orders()\n",
    "print('Customer orders:', customer_orders)\n",
    "\n",
    "order_statistics = calculate_order_statistics(customer_orders, products)\n",
    "print_order_statistics(order_statistics)\n",
    "\n",
    "inventory = update_inventory(customer_orders, inventory)\n",
    "print_updated_inventory(inventory)\n",
    "\n",
    "\n"
   ]
  },
  {
   "cell_type": "code",
   "execution_count": null,
   "id": "b2fb19c0-f550-4011-93b8-a4078d8abded",
   "metadata": {},
   "outputs": [],
   "source": []
  }
 ],
 "metadata": {
  "kernelspec": {
   "display_name": "Python 3 (ipykernel)",
   "language": "python",
   "name": "python3"
  },
  "language_info": {
   "codemirror_mode": {
    "name": "ipython",
    "version": 3
   },
   "file_extension": ".py",
   "mimetype": "text/x-python",
   "name": "python",
   "nbconvert_exporter": "python",
   "pygments_lexer": "ipython3",
   "version": "3.12.4"
  }
 },
 "nbformat": 4,
 "nbformat_minor": 5
}
